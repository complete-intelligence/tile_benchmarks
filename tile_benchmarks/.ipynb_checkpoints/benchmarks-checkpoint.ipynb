{
 "cells": [
  {
   "cell_type": "code",
   "execution_count": 1,
   "id": "0b854f18",
   "metadata": {},
   "outputs": [
    {
     "name": "stderr",
     "output_type": "stream",
     "text": [
      "/home/dev/.cache/pypoetry/virtualenvs/tile-benchmarks-03B3yoSD-py3.8/lib/python3.8/site-packages/arctic/store/_pandas_ndarray_store.py:8: FutureWarning: The Panel class is removed from pandas. Accessing it from the top-level namespace will also be removed in the next version\n",
      "  from pandas import Panel\n"
     ]
    }
   ],
   "source": [
    "import arctic\n",
    "import seaborn as sns\n",
    "from matplotlib import pyplot as plt\n",
    "%matplotlib inline\n",
    "import tiledb\n",
    "import pandas as pd\n",
    "import numpy as np\n",
    "import timeit\n",
    "import tiledb\n",
    "import dask, dask.array as da\n",
    "from dask.dataframe import from_pandas"
   ]
  },
  {
   "cell_type": "code",
   "execution_count": 2,
   "id": "8fe3847b",
   "metadata": {},
   "outputs": [
    {
     "name": "stderr",
     "output_type": "stream",
     "text": [
      "Library created, but couldn't enable sharding: no such command: 'enablesharding', full error: {'ok': 0.0, 'errmsg': \"no such command: 'enablesharding'\", 'code': 59, 'codeName': 'CommandNotFound'}. This is OK if you're not 'admin'\n"
     ]
    },
    {
     "name": "stdout",
     "output_type": "stream",
     "text": [
      "[]\n"
     ]
    }
   ],
   "source": [
    "# Connect to the mongo-host / cluster\n",
    "store = arctic.Arctic(\"127.0.0.1\")\n",
    "\n",
    "store.list_libraries()\n",
    "\n",
    "# Create a library\n",
    "store.initialize_library('benchmark')\n",
    "\n",
    "# Get a library\n",
    "library = store['benchmark']\n",
    "print(library.list_symbols())\n",
    "for symbol in library.list_symbols():\n",
    "    print(\"deleting\", symbol)\n",
    "    library.delete(symbol)"
   ]
  },
  {
   "cell_type": "code",
   "execution_count": 3,
   "id": "d3038b01",
   "metadata": {},
   "outputs": [],
   "source": [
    "period_ends = [\"1970-01-01\", \"1990-01-01\",\"2020-01-01\",\"2030-01-01\"]\n",
    "\n",
    "\n",
    "columns = [list(\"abcdefgh\")]\n",
    "\n",
    "idx = pd.date_range(start=\"1960-01-01\", end=\"1970-01-01\", freq=\"H\")\n",
    "df = pd.DataFrame(data=np.random.uniform(0, 10000, size=(len(idx),8)), index=idx, columns=columns)"
   ]
  },
  {
   "cell_type": "code",
   "execution_count": null,
   "id": "7cf57507",
   "metadata": {},
   "outputs": [],
   "source": []
  },
  {
   "cell_type": "code",
   "execution_count": 4,
   "id": "86ab46de",
   "metadata": {},
   "outputs": [],
   "source": [
    "stats_list = []\n",
    "\n",
    "for i in range(100):\n",
    "    for end in period_ends:\n",
    "        idx = pd.date_range(start=\"1960-01-01\", end=end, freq=\"H\")\n",
    "        df = pd.DataFrame(data=np.random.uniform(0, 10000, size=(len(idx),8)), index=idx, columns=columns, dtype=np.float64)\n",
    "        starttime = timeit.default_timer()\n",
    "        library.write(f\"\"\"df_{end}_{i}\"\"\", df)\n",
    "        time_diff = timeit.default_timer() - starttime\n",
    "        stats_list.append([len(idx), time_diff])"
   ]
  },
  {
   "cell_type": "code",
   "execution_count": 5,
   "id": "b4aa0cca",
   "metadata": {},
   "outputs": [
    {
     "data": {
      "text/html": [
       "<div>\n",
       "<style scoped>\n",
       "    .dataframe tbody tr th:only-of-type {\n",
       "        vertical-align: middle;\n",
       "    }\n",
       "\n",
       "    .dataframe tbody tr th {\n",
       "        vertical-align: top;\n",
       "    }\n",
       "\n",
       "    .dataframe thead th {\n",
       "        text-align: right;\n",
       "    }\n",
       "</style>\n",
       "<table border=\"1\" class=\"dataframe\">\n",
       "  <thead>\n",
       "    <tr style=\"text-align: right;\">\n",
       "      <th></th>\n",
       "      <th>length</th>\n",
       "      <th>time</th>\n",
       "    </tr>\n",
       "  </thead>\n",
       "  <tbody>\n",
       "    <tr>\n",
       "      <th>0</th>\n",
       "      <td>87673</td>\n",
       "      <td>0.069295</td>\n",
       "    </tr>\n",
       "    <tr>\n",
       "      <th>1</th>\n",
       "      <td>262993</td>\n",
       "      <td>0.131348</td>\n",
       "    </tr>\n",
       "    <tr>\n",
       "      <th>2</th>\n",
       "      <td>525961</td>\n",
       "      <td>0.257865</td>\n",
       "    </tr>\n",
       "    <tr>\n",
       "      <th>3</th>\n",
       "      <td>613633</td>\n",
       "      <td>0.282239</td>\n",
       "    </tr>\n",
       "    <tr>\n",
       "      <th>4</th>\n",
       "      <td>87673</td>\n",
       "      <td>0.044956</td>\n",
       "    </tr>\n",
       "    <tr>\n",
       "      <th>...</th>\n",
       "      <td>...</td>\n",
       "      <td>...</td>\n",
       "    </tr>\n",
       "    <tr>\n",
       "      <th>395</th>\n",
       "      <td>613633</td>\n",
       "      <td>0.307112</td>\n",
       "    </tr>\n",
       "    <tr>\n",
       "      <th>396</th>\n",
       "      <td>87673</td>\n",
       "      <td>0.050796</td>\n",
       "    </tr>\n",
       "    <tr>\n",
       "      <th>397</th>\n",
       "      <td>262993</td>\n",
       "      <td>0.112804</td>\n",
       "    </tr>\n",
       "    <tr>\n",
       "      <th>398</th>\n",
       "      <td>525961</td>\n",
       "      <td>0.234497</td>\n",
       "    </tr>\n",
       "    <tr>\n",
       "      <th>399</th>\n",
       "      <td>613633</td>\n",
       "      <td>0.279902</td>\n",
       "    </tr>\n",
       "  </tbody>\n",
       "</table>\n",
       "<p>400 rows × 2 columns</p>\n",
       "</div>"
      ],
      "text/plain": [
       "     length      time\n",
       "0     87673  0.069295\n",
       "1    262993  0.131348\n",
       "2    525961  0.257865\n",
       "3    613633  0.282239\n",
       "4     87673  0.044956\n",
       "..      ...       ...\n",
       "395  613633  0.307112\n",
       "396   87673  0.050796\n",
       "397  262993  0.112804\n",
       "398  525961  0.234497\n",
       "399  613633  0.279902\n",
       "\n",
       "[400 rows x 2 columns]"
      ]
     },
     "execution_count": 5,
     "metadata": {},
     "output_type": "execute_result"
    }
   ],
   "source": [
    "arctic_write_stats = pd.DataFrame(data=stats_list,columns=[\"length\", \"time\"])\n",
    "arctic_write_stats"
   ]
  },
  {
   "cell_type": "code",
   "execution_count": 6,
   "id": "8bc69d42",
   "metadata": {},
   "outputs": [
    {
     "data": {
      "text/plain": [
       "<AxesSubplot:xlabel='length', ylabel='time'>"
      ]
     },
     "execution_count": 6,
     "metadata": {},
     "output_type": "execute_result"
    },
    {
     "data": {
      "image/png": "[encoded data removed]",
      "text/plain": [
       "<Figure size 468x468 with 1 Axes>"
      ]
     },
     "metadata": {
      "needs_background": "light"
     },
     "output_type": "display_data"
    }
   ],
   "source": [
    "f, ax = plt.subplots(figsize=(6.5, 6.5))\n",
    "sns.despine(f, left=True, bottom=True)\n",
    "sns.scatterplot(x=\"length\", y=\"time\",\n",
    "                hue=\"length\", size=\"length\",\n",
    "                palette=\"ch:r=-.2,d=.3_r\",\n",
    "                #hue_order=period_ends,\n",
    "                sizes=(20, 40), linewidth=0,\n",
    "                data=arctic_write_stats, ax=ax)"
   ]
  },
  {
   "cell_type": "code",
   "execution_count": null,
   "id": "9c7bcf9d",
   "metadata": {},
   "outputs": [
    {
     "name": "stdout",
     "output_type": "stream",
     "text": [
      "DenseArray(uri='data/df_1970-01-01T00_0', mode=w, ndim=1) <class 'numpy.datetime64'> <class 'numpy.datetime64'>\n",
      "DenseArray(uri='data/df_1990-01-01T00_0', mode=w, ndim=1) <class 'numpy.datetime64'> <class 'numpy.datetime64'>\n",
      "DenseArray(uri='data/df_2020-01-01T00_0', mode=w, ndim=1) <class 'numpy.datetime64'> <class 'numpy.datetime64'>\n"
     ]
    }
   ],
   "source": [
    "stats_list = []\n",
    "\n",
    "\n",
    "for i in range(100):\n",
    "    for end in period_ends:\n",
    "        #idx = pd.date_range(start=\"1960-01-01\", end=end, freq=\"H\")\n",
    "        #idx = idx.strftime('%Y-%m-%d')\n",
    "        #df = pd.DataFrame(data=np.random.uniform(0, 10000, size=(len(idx),8)), columns=columns).to_numpy()\n",
    "        dim = tiledb.Dim(name='date',\n",
    "                 domain=(np.datetime64('1960-01-01'), np.datetime64(end)),\n",
    "                 tile=np.timedelta64(24, 'h'),\n",
    "                 dtype=np.datetime64('', 'h').dtype)\n",
    "        dom = tiledb.Domain(dim)\n",
    "        schema = tiledb.ArraySchema(domain=dom,\n",
    "                                    attrs=[\n",
    "                                        tiledb.Attr('a', dtype=np.float64),\n",
    "                                        tiledb.Attr('b', dtype=np.float64),\n",
    "                                        tiledb.Attr('c', dtype=np.float64),\n",
    "                                        tiledb.Attr('d', dtype=np.float64),\n",
    "                                        tiledb.Attr('e', dtype=np.float64),\n",
    "                                        tiledb.Attr('f', dtype=np.float64),\n",
    "                                        tiledb.Attr('g', dtype=np.float64),\n",
    "                                        tiledb.Attr('h', dtype=np.float64),],\n",
    "                                   )\n",
    "        # Randomly generate 2 years of values for attribute 'a'\n",
    "        idx = pd.date_range(start=\"1960-01-01\", end=end, freq=\"H\")\n",
    "        a_vals = np.random.rand(len(idx))\n",
    "        b_vals = np.random.rand(len(idx))\n",
    "        c_vals = np.random.rand(len(idx))\n",
    "        d_vals = np.random.rand(len(idx))\n",
    "        e_vals = np.random.rand(len(idx))\n",
    "        f_vals = np.random.rand(len(idx))\n",
    "        g_vals = np.random.rand(len(idx))\n",
    "        h_vals = np.random.rand(len(idx))\n",
    "        \n",
    "        # Write the data at the beginning of the domain.\n",
    "        start = np.datetime64('1960-01-01')\n",
    "        end = start + np.timedelta64(len(idx) - 1, 'h')\n",
    "\n",
    "        starttime = timeit.default_timer()\n",
    "        tiledb.Array.create(f\"\"\"data/df_{end}_{i}\"\"\", schema)\n",
    "        with tiledb.open(f\"\"\"data/df_{end}_{i}\"\"\", 'w') as T:\n",
    "            T[start: end] = {\n",
    "                'a': a_vals,\n",
    "                'b': b_vals,\n",
    "                'c': c_vals,\n",
    "                'd': d_vals,\n",
    "                'e': e_vals,\n",
    "                'f': f_vals,\n",
    "                'g': g_vals,\n",
    "                'h': h_vals\n",
    "            }\n",
    "        time_diff = timeit.default_timer() - starttime\n",
    "        stats_list.append([len(idx), time_diff])\n"
   ]
  },
  {
   "cell_type": "code",
   "execution_count": null,
   "id": "851561eb",
   "metadata": {},
   "outputs": [],
   "source": [
    "tile_write_stats = pd.DataFrame(data=stats_list,columns=[\"length\", \"time\"])\n",
    "tile_write_stats"
   ]
  },
  {
   "cell_type": "code",
   "execution_count": null,
   "id": "d01a8ca6",
   "metadata": {},
   "outputs": [],
   "source": [
    "f, ax = plt.subplots(figsize=(6.5, 6.5))\n",
    "sns.despine(f, left=True, bottom=True)\n",
    "sns.scatterplot(x=\"length\", y=\"time\",\n",
    "                hue=\"length\", size=\"length\",\n",
    "                palette=\"ch:r=-.2,d=.3_r\",\n",
    "                #hue_order=period_ends,\n",
    "                sizes=(20, 40), linewidth=0,\n",
    "                data=tile_write_stats, ax=ax)"
   ]
  },
  {
   "cell_type": "code",
   "execution_count": null,
   "id": "b195d9e4",
   "metadata": {},
   "outputs": [],
   "source": []
  },
  {
   "cell_type": "code",
   "execution_count": null,
   "id": "ebb499e3",
   "metadata": {},
   "outputs": [],
   "source": []
  },
  {
   "cell_type": "code",
   "execution_count": null,
   "id": "8543a1cb",
   "metadata": {},
   "outputs": [],
   "source": []
  },
  {
   "cell_type": "code",
   "execution_count": null,
   "id": "1ff6cf56",
   "metadata": {},
   "outputs": [],
   "source": []
  },
  {
   "cell_type": "code",
   "execution_count": null,
   "id": "e680fe3a",
   "metadata": {},
   "outputs": [],
   "source": []
  },
  {
   "cell_type": "code",
   "execution_count": null,
   "id": "e32f8803",
   "metadata": {},
   "outputs": [],
   "source": []
  }
 ],
 "metadata": {
  "kernelspec": {
   "display_name": "Python 3 (ipykernel)",
   "language": "python",
   "name": "python3"
  },
  "language_info": {
   "codemirror_mode": {
    "name": "ipython",
    "version": 3
   },
   "file_extension": ".py",
   "mimetype": "text/x-python",
   "name": "python",
   "nbconvert_exporter": "python",
   "pygments_lexer": "ipython3",
   "version": "3.8.10"
  }
 },
 "nbformat": 4,
 "nbformat_minor": 5
}
